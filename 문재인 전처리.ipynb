{
 "cells": [
  {
   "cell_type": "code",
   "execution_count": 1,
   "metadata": {},
   "outputs": [
    {
     "name": "stdout",
     "output_type": "stream",
     "text": [
      "Requirement already satisfied: selenium in c:\\users\\user\\anaconda3\\lib\\site-packages (3.141.0)\n",
      "Requirement already satisfied: urllib3 in c:\\users\\user\\anaconda3\\lib\\site-packages (from selenium) (1.25.8)\n"
     ]
    }
   ],
   "source": [
    "!pip install selenium\n",
    "\n",
    "import requests # 웹 페이지 소스를 얻기 위한 패키지(기본 내장 패키지이다.)\n",
    "from bs4 import BeautifulSoup # 웹 페이지 소스를 얻기 위한 패키지, 더 간단히 얻을 수 있다는 장점이 있다고 한다.\n",
    "from datetime import datetime                                # (!pip install beautifulsoup4 으로 다운받을 수 있다.)\n",
    "import pandas as pd # 데이터를 처리하기 위한 가장 기본적인 패키지\n",
    "import time # 사이트를 불러올 때, 작업 지연시간을 지정해주기 위한 패키지이다. (사이트가 늦게 켜지면 에러가 발생하기 때문)\n",
    "import urllib.request #\n",
    "from selenium.webdriver import Chrome\n",
    "import json\n",
    "import re     \n",
    "from selenium.webdriver.chrome.options import Options\n",
    "from selenium.webdriver.common.keys import Keys\n",
    "import datetime as dt\n",
    "\n"
   ]
  },
  {
   "cell_type": "code",
   "execution_count": 17,
   "metadata": {},
   "outputs": [],
   "source": [
    "comment_data = pd.read_csv('문재인.csv')"
   ]
  },
  {
   "cell_type": "code",
   "execution_count": 18,
   "metadata": {},
   "outputs": [
    {
     "data": {
      "text/html": [
       "<div>\n",
       "<style scoped>\n",
       "    .dataframe tbody tr th:only-of-type {\n",
       "        vertical-align: middle;\n",
       "    }\n",
       "\n",
       "    .dataframe tbody tr th {\n",
       "        vertical-align: top;\n",
       "    }\n",
       "\n",
       "    .dataframe thead th {\n",
       "        text-align: right;\n",
       "    }\n",
       "</style>\n",
       "<table border=\"1\" class=\"dataframe\">\n",
       "  <thead>\n",
       "    <tr style=\"text-align: right;\">\n",
       "      <th></th>\n",
       "      <th>Video ID</th>\n",
       "      <th>Title</th>\n",
       "      <th>Comment</th>\n",
       "    </tr>\n",
       "  </thead>\n",
       "  <tbody>\n",
       "    <tr>\n",
       "      <th>0</th>\n",
       "      <td>_EdM8YXh9EQ</td>\n",
       "      <td>(한밤토크) 박원순, 대사관 마지막 통화가 충격! 문재인 감빵 가자! / 신의한수 ...</td>\n",
       "      <td>지금에 문정권은 나라망치는 정권이다 ... 하루 빨리  퇴출 시키지  안으면 정말 ...</td>\n",
       "    </tr>\n",
       "    <tr>\n",
       "      <th>1</th>\n",
       "      <td>_EdM8YXh9EQ</td>\n",
       "      <td>(한밤토크) 박원순, 대사관 마지막 통화가 충격! 문재인 감빵 가자! / 신의한수 ...</td>\n",
       "      <td>공범들이다!~★ 철저히조사해서 처벌하라!!</td>\n",
       "    </tr>\n",
       "    <tr>\n",
       "      <th>2</th>\n",
       "      <td>_EdM8YXh9EQ</td>\n",
       "      <td>(한밤토크) 박원순, 대사관 마지막 통화가 충격! 문재인 감빵 가자! / 신의한수 ...</td>\n",
       "      <td>마지막 통화 내용이나\\r\\n말해주세요</td>\n",
       "    </tr>\n",
       "    <tr>\n",
       "      <th>3</th>\n",
       "      <td>_EdM8YXh9EQ</td>\n",
       "      <td>(한밤토크) 박원순, 대사관 마지막 통화가 충격! 문재인 감빵 가자! / 신의한수 ...</td>\n",
       "      <td>신 대표님 마스크는 추천하지 마세요! 기능이 떨어지는 저급을  많은돈 지급하고 사게...</td>\n",
       "    </tr>\n",
       "    <tr>\n",
       "      <th>4</th>\n",
       "      <td>_EdM8YXh9EQ</td>\n",
       "      <td>(한밤토크) 박원순, 대사관 마지막 통화가 충격! 문재인 감빵 가자! / 신의한수 ...</td>\n",
       "      <td>여가부가무엇하는곳인지알고싶어요</td>\n",
       "    </tr>\n",
       "    <tr>\n",
       "      <th>...</th>\n",
       "      <td>...</td>\n",
       "      <td>...</td>\n",
       "      <td>...</td>\n",
       "    </tr>\n",
       "    <tr>\n",
       "      <th>19341</th>\n",
       "      <td>bF2v8vbAG1I</td>\n",
       "      <td>[풀영상] 한국판 뉴딜 국민보고대회 - 문재인 대통령 기조연설 &amp;quot;160조 ...</td>\n",
       "      <td>문재인 대통령님 얼마나 힘드 십니까?\\r\\n적극적으로 지원하고 응원합니다.\\r\\n그...</td>\n",
       "    </tr>\n",
       "    <tr>\n",
       "      <th>19342</th>\n",
       "      <td>bF2v8vbAG1I</td>\n",
       "      <td>[풀영상] 한국판 뉴딜 국민보고대회 - 문재인 대통령 기조연설 &amp;quot;160조 ...</td>\n",
       "      <td>역시 우리 대통령이십니다.</td>\n",
       "    </tr>\n",
       "    <tr>\n",
       "      <th>19343</th>\n",
       "      <td>bF2v8vbAG1I</td>\n",
       "      <td>[풀영상] 한국판 뉴딜 국민보고대회 - 문재인 대통령 기조연설 &amp;quot;160조 ...</td>\n",
       "      <td>확실히 연설은 존나 못한다</td>\n",
       "    </tr>\n",
       "    <tr>\n",
       "      <th>19344</th>\n",
       "      <td>bF2v8vbAG1I</td>\n",
       "      <td>[풀영상] 한국판 뉴딜 국민보고대회 - 문재인 대통령 기조연설 &amp;quot;160조 ...</td>\n",
       "      <td>항상 응원합니다</td>\n",
       "    </tr>\n",
       "    <tr>\n",
       "      <th>19345</th>\n",
       "      <td>bF2v8vbAG1I</td>\n",
       "      <td>[풀영상] 한국판 뉴딜 국민보고대회 - 문재인 대통령 기조연설 &amp;quot;160조 ...</td>\n",
       "      <td>ㅈ</td>\n",
       "    </tr>\n",
       "  </tbody>\n",
       "</table>\n",
       "<p>19346 rows × 3 columns</p>\n",
       "</div>"
      ],
      "text/plain": [
       "          Video ID                                              Title  \\\n",
       "0      _EdM8YXh9EQ  (한밤토크) 박원순, 대사관 마지막 통화가 충격! 문재인 감빵 가자! / 신의한수 ...   \n",
       "1      _EdM8YXh9EQ  (한밤토크) 박원순, 대사관 마지막 통화가 충격! 문재인 감빵 가자! / 신의한수 ...   \n",
       "2      _EdM8YXh9EQ  (한밤토크) 박원순, 대사관 마지막 통화가 충격! 문재인 감빵 가자! / 신의한수 ...   \n",
       "3      _EdM8YXh9EQ  (한밤토크) 박원순, 대사관 마지막 통화가 충격! 문재인 감빵 가자! / 신의한수 ...   \n",
       "4      _EdM8YXh9EQ  (한밤토크) 박원순, 대사관 마지막 통화가 충격! 문재인 감빵 가자! / 신의한수 ...   \n",
       "...            ...                                                ...   \n",
       "19341  bF2v8vbAG1I  [풀영상] 한국판 뉴딜 국민보고대회 - 문재인 대통령 기조연설 &quot;160조 ...   \n",
       "19342  bF2v8vbAG1I  [풀영상] 한국판 뉴딜 국민보고대회 - 문재인 대통령 기조연설 &quot;160조 ...   \n",
       "19343  bF2v8vbAG1I  [풀영상] 한국판 뉴딜 국민보고대회 - 문재인 대통령 기조연설 &quot;160조 ...   \n",
       "19344  bF2v8vbAG1I  [풀영상] 한국판 뉴딜 국민보고대회 - 문재인 대통령 기조연설 &quot;160조 ...   \n",
       "19345  bF2v8vbAG1I  [풀영상] 한국판 뉴딜 국민보고대회 - 문재인 대통령 기조연설 &quot;160조 ...   \n",
       "\n",
       "                                                 Comment  \n",
       "0      지금에 문정권은 나라망치는 정권이다 ... 하루 빨리  퇴출 시키지  안으면 정말 ...  \n",
       "1                                공범들이다!~★ 철저히조사해서 처벌하라!!  \n",
       "2                                   마지막 통화 내용이나\\r\\n말해주세요  \n",
       "3      신 대표님 마스크는 추천하지 마세요! 기능이 떨어지는 저급을  많은돈 지급하고 사게...  \n",
       "4                                       여가부가무엇하는곳인지알고싶어요  \n",
       "...                                                  ...  \n",
       "19341  문재인 대통령님 얼마나 힘드 십니까?\\r\\n적극적으로 지원하고 응원합니다.\\r\\n그...  \n",
       "19342                                     역시 우리 대통령이십니다.  \n",
       "19343                                     확실히 연설은 존나 못한다  \n",
       "19344                                           항상 응원합니다  \n",
       "19345                                                  ㅈ  \n",
       "\n",
       "[19346 rows x 3 columns]"
      ]
     },
     "execution_count": 18,
     "metadata": {},
     "output_type": "execute_result"
    }
   ],
   "source": [
    "comment_data"
   ]
  },
  {
   "cell_type": "code",
   "execution_count": 19,
   "metadata": {},
   "outputs": [],
   "source": [
    "\n",
    "#이모티콘 제거\n",
    "emoji_pattern = re.compile(\"[\"\n",
    "        u\"\\U0001F600-\\U0001F64F\"  # emoticons\n",
    "        u\"\\U0001F300-\\U0001F5FF\"  # symbols & pictographs\n",
    "        u\"\\U0001F680-\\U0001F6FF\"  # transport & map symbols\n",
    "        u\"\\U0001F1E0-\\U0001F1FF\"  # flags (iOS)\n",
    "                           \"]+\", flags=re.UNICODE)\n",
    "\n",
    "#분석에 어긋나는 불용어구 제외 (특수문자, 의성어)\n",
    "han = re.compile(r'[ㄱ-ㅎㅏ-ㅣ!?~,\".\\n\\r#\\ufeff\\u200d]')"
   ]
  },
  {
   "cell_type": "code",
   "execution_count": 20,
   "metadata": {},
   "outputs": [],
   "source": [
    "comment_list = []\n",
    "for i in range(len(comment_data)):\n",
    "    comment_list.append(comment_data['Comment'].iloc[i])"
   ]
  },
  {
   "cell_type": "code",
   "execution_count": 21,
   "metadata": {},
   "outputs": [],
   "source": [
    "comment_result = []\n",
    "\n",
    "for i in comment_list:\n",
    "    tokens = re.sub(emoji_pattern,\"\",i)\n",
    "    tokens = re.sub(han,\"\",tokens)\n",
    "    comment_result.append(tokens)\n",
    "\n",
    "comment_result = pd.DataFrame(comment_result, columns=[\"Comment\"])"
   ]
  },
  {
   "cell_type": "code",
   "execution_count": 22,
   "metadata": {},
   "outputs": [
    {
     "data": {
      "text/html": [
       "<div>\n",
       "<style scoped>\n",
       "    .dataframe tbody tr th:only-of-type {\n",
       "        vertical-align: middle;\n",
       "    }\n",
       "\n",
       "    .dataframe tbody tr th {\n",
       "        vertical-align: top;\n",
       "    }\n",
       "\n",
       "    .dataframe thead th {\n",
       "        text-align: right;\n",
       "    }\n",
       "</style>\n",
       "<table border=\"1\" class=\"dataframe\">\n",
       "  <thead>\n",
       "    <tr style=\"text-align: right;\">\n",
       "      <th></th>\n",
       "      <th>Comment</th>\n",
       "    </tr>\n",
       "  </thead>\n",
       "  <tbody>\n",
       "    <tr>\n",
       "      <th>0</th>\n",
       "      <td>지금에 문정권은 나라망치는 정권이다  하루 빨리  퇴출 시키지  안으면 정말  큰 ...</td>\n",
       "    </tr>\n",
       "    <tr>\n",
       "      <th>1</th>\n",
       "      <td>공범들이다★ 철저히조사해서 처벌하라</td>\n",
       "    </tr>\n",
       "    <tr>\n",
       "      <th>2</th>\n",
       "      <td>마지막 통화 내용이나말해주세요</td>\n",
       "    </tr>\n",
       "    <tr>\n",
       "      <th>3</th>\n",
       "      <td>신 대표님 마스크는 추천하지 마세요 기능이 떨어지는 저급을  많은돈 지급하고 사게되...</td>\n",
       "    </tr>\n",
       "    <tr>\n",
       "      <th>4</th>\n",
       "      <td>여가부가무엇하는곳인지알고싶어요</td>\n",
       "    </tr>\n",
       "    <tr>\n",
       "      <th>...</th>\n",
       "      <td>...</td>\n",
       "    </tr>\n",
       "    <tr>\n",
       "      <th>19341</th>\n",
       "      <td>문재인 대통령님 얼마나 힘드 십니까적극적으로 지원하고 응원합니다그리고 감사합니다</td>\n",
       "    </tr>\n",
       "    <tr>\n",
       "      <th>19342</th>\n",
       "      <td>역시 우리 대통령이십니다</td>\n",
       "    </tr>\n",
       "    <tr>\n",
       "      <th>19343</th>\n",
       "      <td>확실히 연설은 존나 못한다</td>\n",
       "    </tr>\n",
       "    <tr>\n",
       "      <th>19344</th>\n",
       "      <td>항상 응원합니다</td>\n",
       "    </tr>\n",
       "    <tr>\n",
       "      <th>19345</th>\n",
       "      <td></td>\n",
       "    </tr>\n",
       "  </tbody>\n",
       "</table>\n",
       "<p>19346 rows × 1 columns</p>\n",
       "</div>"
      ],
      "text/plain": [
       "                                                 Comment\n",
       "0      지금에 문정권은 나라망치는 정권이다  하루 빨리  퇴출 시키지  안으면 정말  큰 ...\n",
       "1                                    공범들이다★ 철저히조사해서 처벌하라\n",
       "2                                       마지막 통화 내용이나말해주세요\n",
       "3      신 대표님 마스크는 추천하지 마세요 기능이 떨어지는 저급을  많은돈 지급하고 사게되...\n",
       "4                                       여가부가무엇하는곳인지알고싶어요\n",
       "...                                                  ...\n",
       "19341       문재인 대통령님 얼마나 힘드 십니까적극적으로 지원하고 응원합니다그리고 감사합니다\n",
       "19342                                      역시 우리 대통령이십니다\n",
       "19343                                     확실히 연설은 존나 못한다\n",
       "19344                                           항상 응원합니다\n",
       "19345                                                   \n",
       "\n",
       "[19346 rows x 1 columns]"
      ]
     },
     "execution_count": 22,
     "metadata": {},
     "output_type": "execute_result"
    }
   ],
   "source": [
    "comment_result"
   ]
  },
  {
   "cell_type": "markdown",
   "metadata": {},
   "source": [
    "## 형태소 분석기를 통한 명사 추출¶"
   ]
  },
  {
   "cell_type": "code",
   "execution_count": 23,
   "metadata": {},
   "outputs": [],
   "source": [
    "# !pip install konlpy"
   ]
  },
  {
   "cell_type": "code",
   "execution_count": 24,
   "metadata": {},
   "outputs": [],
   "source": [
    "#한글 형태소 분석기인 konlpy사용 \n",
    "#이때 konlpy에는 hannanum, kommoran, kkma, twitter이 있는데 해당 분석에서는 kkma사용\n",
    "from konlpy.tag import Kkma\n",
    "from konlpy.tag import Mecab\n",
    "from konlpy.tag import Twitter\n",
    "#apply lambda사용"
   ]
  },
  {
   "cell_type": "code",
   "execution_count": 25,
   "metadata": {},
   "outputs": [
    {
     "name": "stderr",
     "output_type": "stream",
     "text": [
      "C:\\Users\\user\\anaconda3\\lib\\site-packages\\konlpy\\tag\\_okt.py:16: UserWarning: \"Twitter\" has changed to \"Okt\" since KoNLPy v0.4.5.\n",
      "  warn('\"Twitter\" has changed to \"Okt\" since KoNLPy v0.4.5.')\n"
     ]
    }
   ],
   "source": [
    "from konlpy.tag import Twitter\n",
    "\n",
    "def get_noun(comment_txt):\n",
    "    twitter = Twitter()\n",
    "    noun = []\n",
    "    \n",
    "    if len(comment_txt)>0:\n",
    "        tw = twitter.pos(comment_txt)\n",
    "        for i,j in tw:\n",
    "            if j == 'Noun':\n",
    "                noun.append(i)\n",
    "    return noun\n",
    " \n",
    "comment_result['token'] = comment_result['Comment'].apply(lambda x: get_noun(x))"
   ]
  },
  {
   "cell_type": "code",
   "execution_count": 26,
   "metadata": {},
   "outputs": [
    {
     "data": {
      "text/plain": [
       "0         [지금, 정권, 나라, 정권, 하루, 퇴, 정말, 난리, 확실, 요즘, 젊은이, 무얼]\n",
       "1                                            [공범, 조사해, 처벌]\n",
       "2                                         [마지막, 통화, 내용, 말]\n",
       "3        [신, 대표, 마스크, 추천, 기능, 저급, 돈, 지급, 면, 신의, 한수, 정도,...\n",
       "4                                             [여가부, 무엇, 곳]\n",
       "                               ...                        \n",
       "19341                       [문재인, 대통령, 얼마나, 십, 적극, 지원, 응원]\n",
       "19342                                     [역시, 우리, 대통령, 니]\n",
       "19343                                             [연설, 존나]\n",
       "19344                                             [항상, 응원]\n",
       "19345                                                   []\n",
       "Name: token, Length: 19346, dtype: object"
      ]
     },
     "execution_count": 26,
     "metadata": {},
     "output_type": "execute_result"
    }
   ],
   "source": [
    "comment_result['token']"
   ]
  }
 ],
 "metadata": {
  "kernelspec": {
   "display_name": "Python 3",
   "language": "python",
   "name": "python3"
  },
  "language_info": {
   "codemirror_mode": {
    "name": "ipython",
    "version": 3
   },
   "file_extension": ".py",
   "mimetype": "text/x-python",
   "name": "python",
   "nbconvert_exporter": "python",
   "pygments_lexer": "ipython3",
   "version": "3.7.6"
  }
 },
 "nbformat": 4,
 "nbformat_minor": 4
}
