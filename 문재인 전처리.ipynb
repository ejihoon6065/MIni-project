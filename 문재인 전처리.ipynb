{
 "cells": [
  {
   "cell_type": "code",
   "execution_count": 1,
   "metadata": {},
   "outputs": [
    {
     "name": "stdout",
     "output_type": "stream",
     "text": [
      "Requirement already satisfied: selenium in c:\\users\\user\\anaconda3\\lib\\site-packages (3.141.0)\n",
      "Requirement already satisfied: urllib3 in c:\\users\\user\\anaconda3\\lib\\site-packages (from selenium) (1.25.8)\n"
     ]
    }
   ],
   "source": [
    "!pip install selenium\n",
    "\n",
    "import requests # 웹 페이지 소스를 얻기 위한 패키지(기본 내장 패키지이다.)\n",
    "from bs4 import BeautifulSoup # 웹 페이지 소스를 얻기 위한 패키지, 더 간단히 얻을 수 있다는 장점이 있다고 한다.\n",
    "from datetime import datetime                                # (!pip install beautifulsoup4 으로 다운받을 수 있다.)\n",
    "import pandas as pd # 데이터를 처리하기 위한 가장 기본적인 패키지\n",
    "import time # 사이트를 불러올 때, 작업 지연시간을 지정해주기 위한 패키지이다. (사이트가 늦게 켜지면 에러가 발생하기 때문)\n",
    "import urllib.request #\n",
    "from selenium.webdriver import Chrome\n",
    "import json\n",
    "import re     \n",
    "from selenium.webdriver.chrome.options import Options\n",
    "from selenium.webdriver.common.keys import Keys\n",
    "import datetime as dt\n",
    "\n"
   ]
  },
  {
   "cell_type": "code",
   "execution_count": 7,
   "metadata": {},
   "outputs": [],
   "source": [
    "comment_data = pd.read_csv('문재인.csv')"
   ]
  },
  {
   "cell_type": "code",
   "execution_count": 8,
   "metadata": {},
   "outputs": [
    {
     "data": {
      "text/html": [
       "<div>\n",
       "<style scoped>\n",
       "    .dataframe tbody tr th:only-of-type {\n",
       "        vertical-align: middle;\n",
       "    }\n",
       "\n",
       "    .dataframe tbody tr th {\n",
       "        vertical-align: top;\n",
       "    }\n",
       "\n",
       "    .dataframe thead th {\n",
       "        text-align: right;\n",
       "    }\n",
       "</style>\n",
       "<table border=\"1\" class=\"dataframe\">\n",
       "  <thead>\n",
       "    <tr style=\"text-align: right;\">\n",
       "      <th></th>\n",
       "      <th>Video ID</th>\n",
       "      <th>Title</th>\n",
       "      <th>Comment</th>\n",
       "    </tr>\n",
       "  </thead>\n",
       "  <tbody>\n",
       "    <tr>\n",
       "      <th>0</th>\n",
       "      <td>_EdM8YXh9EQ</td>\n",
       "      <td>(한밤토크) 박원순, 대사관 마지막 통화가 충격! 문재인 감빵 가자! / 신의한수 ...</td>\n",
       "      <td>마지막 통화 내용이나\\r\\n말해주세요</td>\n",
       "    </tr>\n",
       "    <tr>\n",
       "      <th>1</th>\n",
       "      <td>_EdM8YXh9EQ</td>\n",
       "      <td>(한밤토크) 박원순, 대사관 마지막 통화가 충격! 문재인 감빵 가자! / 신의한수 ...</td>\n",
       "      <td>신 대표님 마스크는 추천하지 마세요! 기능이 떨어지는 저급을  많은돈 지급하고 사게...</td>\n",
       "    </tr>\n",
       "    <tr>\n",
       "      <th>2</th>\n",
       "      <td>_EdM8YXh9EQ</td>\n",
       "      <td>(한밤토크) 박원순, 대사관 마지막 통화가 충격! 문재인 감빵 가자! / 신의한수 ...</td>\n",
       "      <td>여가부가무엇하는곳인지알고싶어요</td>\n",
       "    </tr>\n",
       "    <tr>\n",
       "      <th>3</th>\n",
       "      <td>_EdM8YXh9EQ</td>\n",
       "      <td>(한밤토크) 박원순, 대사관 마지막 통화가 충격! 문재인 감빵 가자! / 신의한수 ...</td>\n",
       "      <td>아마죽었다고쏘하는지도몰라요 시신도보여주지도안고 죽었다고만하니못믿어워요 그미친년놈들 ...</td>\n",
       "    </tr>\n",
       "    <tr>\n",
       "      <th>4</th>\n",
       "      <td>_EdM8YXh9EQ</td>\n",
       "      <td>(한밤토크) 박원순, 대사관 마지막 통화가 충격! 문재인 감빵 가자! / 신의한수 ...</td>\n",
       "      <td>사인이.무었인가도모르고초상친나.</td>\n",
       "    </tr>\n",
       "    <tr>\n",
       "      <th>...</th>\n",
       "      <td>...</td>\n",
       "      <td>...</td>\n",
       "      <td>...</td>\n",
       "    </tr>\n",
       "    <tr>\n",
       "      <th>6086</th>\n",
       "      <td>K4zzx2yljNM</td>\n",
       "      <td>(다반뉴스) 문재인 감빵가자! 조국사건 대통령 개입 터졌다! / 신의한수 20.06.25</td>\n",
       "      <td>문제덩어리 빵간다니 속이 시원합니다</td>\n",
       "    </tr>\n",
       "    <tr>\n",
       "      <th>6087</th>\n",
       "      <td>K4zzx2yljNM</td>\n",
       "      <td>(다반뉴스) 문재인 감빵가자! 조국사건 대통령 개입 터졌다! / 신의한수 20.06.25</td>\n",
       "      <td>그런데 판사 세끼들이 원칙과 양심에  따라재판\\r\\n해야 하는데  그렇치  못하니 ...</td>\n",
       "    </tr>\n",
       "    <tr>\n",
       "      <th>6088</th>\n",
       "      <td>K4zzx2yljNM</td>\n",
       "      <td>(다반뉴스) 문재인 감빵가자! 조국사건 대통령 개입 터졌다! / 신의한수 20.06.25</td>\n",
       "      <td>한마디로 문조현 토착간첩 정권답네요~갈수록 태산이다.\\r\\n조현병 환자를 반대하는 ...</td>\n",
       "    </tr>\n",
       "    <tr>\n",
       "      <th>6089</th>\n",
       "      <td>K4zzx2yljNM</td>\n",
       "      <td>(다반뉴스) 문재인 감빵가자! 조국사건 대통령 개입 터졌다! / 신의한수 20.06.25</td>\n",
       "      <td>신의한수 식구들~♡♡힘내세요\\r\\n화이팅🤗🤗👍👍👏👏👏💖💖💖💖</td>\n",
       "    </tr>\n",
       "    <tr>\n",
       "      <th>6090</th>\n",
       "      <td>K4zzx2yljNM</td>\n",
       "      <td>(다반뉴스) 문재인 감빵가자! 조국사건 대통령 개입 터졌다! / 신의한수 20.06.25</td>\n",
       "      <td>ㅋㅋㅋㅋ 과연</td>\n",
       "    </tr>\n",
       "  </tbody>\n",
       "</table>\n",
       "<p>6091 rows × 3 columns</p>\n",
       "</div>"
      ],
      "text/plain": [
       "         Video ID                                              Title  \\\n",
       "0     _EdM8YXh9EQ  (한밤토크) 박원순, 대사관 마지막 통화가 충격! 문재인 감빵 가자! / 신의한수 ...   \n",
       "1     _EdM8YXh9EQ  (한밤토크) 박원순, 대사관 마지막 통화가 충격! 문재인 감빵 가자! / 신의한수 ...   \n",
       "2     _EdM8YXh9EQ  (한밤토크) 박원순, 대사관 마지막 통화가 충격! 문재인 감빵 가자! / 신의한수 ...   \n",
       "3     _EdM8YXh9EQ  (한밤토크) 박원순, 대사관 마지막 통화가 충격! 문재인 감빵 가자! / 신의한수 ...   \n",
       "4     _EdM8YXh9EQ  (한밤토크) 박원순, 대사관 마지막 통화가 충격! 문재인 감빵 가자! / 신의한수 ...   \n",
       "...           ...                                                ...   \n",
       "6086  K4zzx2yljNM  (다반뉴스) 문재인 감빵가자! 조국사건 대통령 개입 터졌다! / 신의한수 20.06.25   \n",
       "6087  K4zzx2yljNM  (다반뉴스) 문재인 감빵가자! 조국사건 대통령 개입 터졌다! / 신의한수 20.06.25   \n",
       "6088  K4zzx2yljNM  (다반뉴스) 문재인 감빵가자! 조국사건 대통령 개입 터졌다! / 신의한수 20.06.25   \n",
       "6089  K4zzx2yljNM  (다반뉴스) 문재인 감빵가자! 조국사건 대통령 개입 터졌다! / 신의한수 20.06.25   \n",
       "6090  K4zzx2yljNM  (다반뉴스) 문재인 감빵가자! 조국사건 대통령 개입 터졌다! / 신의한수 20.06.25   \n",
       "\n",
       "                                                Comment  \n",
       "0                                  마지막 통화 내용이나\\r\\n말해주세요  \n",
       "1     신 대표님 마스크는 추천하지 마세요! 기능이 떨어지는 저급을  많은돈 지급하고 사게...  \n",
       "2                                      여가부가무엇하는곳인지알고싶어요  \n",
       "3     아마죽었다고쏘하는지도몰라요 시신도보여주지도안고 죽었다고만하니못믿어워요 그미친년놈들 ...  \n",
       "4                                     사인이.무었인가도모르고초상친나.  \n",
       "...                                                 ...  \n",
       "6086                                문제덩어리 빵간다니 속이 시원합니다  \n",
       "6087  그런데 판사 세끼들이 원칙과 양심에  따라재판\\r\\n해야 하는데  그렇치  못하니 ...  \n",
       "6088  한마디로 문조현 토착간첩 정권답네요~갈수록 태산이다.\\r\\n조현병 환자를 반대하는 ...  \n",
       "6089                  신의한수 식구들~♡♡힘내세요\\r\\n화이팅🤗🤗👍👍👏👏👏💖💖💖💖  \n",
       "6090                                            ㅋㅋㅋㅋ 과연  \n",
       "\n",
       "[6091 rows x 3 columns]"
      ]
     },
     "execution_count": 8,
     "metadata": {},
     "output_type": "execute_result"
    }
   ],
   "source": [
    "comment_data"
   ]
  },
  {
   "cell_type": "code",
   "execution_count": 9,
   "metadata": {},
   "outputs": [],
   "source": [
    "\n",
    "#이모티콘 제거\n",
    "emoji_pattern = re.compile(\"[\"\n",
    "        u\"\\U0001F600-\\U0001F64F\"  # emoticons\n",
    "        u\"\\U0001F300-\\U0001F5FF\"  # symbols & pictographs\n",
    "        u\"\\U0001F680-\\U0001F6FF\"  # transport & map symbols\n",
    "        u\"\\U0001F1E0-\\U0001F1FF\"  # flags (iOS)\n",
    "                           \"]+\", flags=re.UNICODE)\n",
    "\n",
    "#분석에 어긋나는 불용어구 제외 (특수문자, 의성어)\n",
    "han = re.compile(r'[ㄱ-ㅎㅏ-ㅣ!?~,\".\\n\\r#\\ufeff\\u200d]')"
   ]
  },
  {
   "cell_type": "code",
   "execution_count": 10,
   "metadata": {},
   "outputs": [],
   "source": [
    "comment_list = []\n",
    "for i in range(len(comment_data)):\n",
    "    comment_list.append(comment_data['Comment'].iloc[i])"
   ]
  },
  {
   "cell_type": "code",
   "execution_count": 11,
   "metadata": {},
   "outputs": [],
   "source": [
    "comment_result = []\n",
    "\n",
    "for i in comment_list:\n",
    "    tokens = re.sub(emoji_pattern,\"\",i)\n",
    "    tokens = re.sub(han,\"\",tokens)\n",
    "    comment_result.append(tokens)\n",
    "\n",
    "comment_result = pd.DataFrame(comment_result, columns=[\"Comment\"])"
   ]
  },
  {
   "cell_type": "code",
   "execution_count": 12,
   "metadata": {},
   "outputs": [
    {
     "data": {
      "text/html": [
       "<div>\n",
       "<style scoped>\n",
       "    .dataframe tbody tr th:only-of-type {\n",
       "        vertical-align: middle;\n",
       "    }\n",
       "\n",
       "    .dataframe tbody tr th {\n",
       "        vertical-align: top;\n",
       "    }\n",
       "\n",
       "    .dataframe thead th {\n",
       "        text-align: right;\n",
       "    }\n",
       "</style>\n",
       "<table border=\"1\" class=\"dataframe\">\n",
       "  <thead>\n",
       "    <tr style=\"text-align: right;\">\n",
       "      <th></th>\n",
       "      <th>Comment</th>\n",
       "    </tr>\n",
       "  </thead>\n",
       "  <tbody>\n",
       "    <tr>\n",
       "      <th>0</th>\n",
       "      <td>마지막 통화 내용이나말해주세요</td>\n",
       "    </tr>\n",
       "    <tr>\n",
       "      <th>1</th>\n",
       "      <td>신 대표님 마스크는 추천하지 마세요 기능이 떨어지는 저급을  많은돈 지급하고 사게되...</td>\n",
       "    </tr>\n",
       "    <tr>\n",
       "      <th>2</th>\n",
       "      <td>여가부가무엇하는곳인지알고싶어요</td>\n",
       "    </tr>\n",
       "    <tr>\n",
       "      <th>3</th>\n",
       "      <td>아마죽었다고쏘하는지도몰라요 시신도보여주지도안고 죽었다고만하니못믿어워요 그미친년놈들 ...</td>\n",
       "    </tr>\n",
       "    <tr>\n",
       "      <th>4</th>\n",
       "      <td>사인이무었인가도모르고초상친나</td>\n",
       "    </tr>\n",
       "    <tr>\n",
       "      <th>...</th>\n",
       "      <td>...</td>\n",
       "    </tr>\n",
       "    <tr>\n",
       "      <th>6086</th>\n",
       "      <td>문제덩어리 빵간다니 속이 시원합니다</td>\n",
       "    </tr>\n",
       "    <tr>\n",
       "      <th>6087</th>\n",
       "      <td>그런데 판사 세끼들이 원칙과 양심에  따라재판해야 하는데  그렇치  못하니 답답하네요</td>\n",
       "    </tr>\n",
       "    <tr>\n",
       "      <th>6088</th>\n",
       "      <td>한마디로 문조현 토착간첩 정권답네요갈수록 태산이다조현병 환자를 반대하는 국민은 살수...</td>\n",
       "    </tr>\n",
       "    <tr>\n",
       "      <th>6089</th>\n",
       "      <td>신의한수 식구들♡♡힘내세요화이팅🤗🤗</td>\n",
       "    </tr>\n",
       "    <tr>\n",
       "      <th>6090</th>\n",
       "      <td>과연</td>\n",
       "    </tr>\n",
       "  </tbody>\n",
       "</table>\n",
       "<p>6091 rows × 1 columns</p>\n",
       "</div>"
      ],
      "text/plain": [
       "                                                Comment\n",
       "0                                      마지막 통화 내용이나말해주세요\n",
       "1     신 대표님 마스크는 추천하지 마세요 기능이 떨어지는 저급을  많은돈 지급하고 사게되...\n",
       "2                                      여가부가무엇하는곳인지알고싶어요\n",
       "3     아마죽었다고쏘하는지도몰라요 시신도보여주지도안고 죽었다고만하니못믿어워요 그미친년놈들 ...\n",
       "4                                       사인이무었인가도모르고초상친나\n",
       "...                                                 ...\n",
       "6086                                문제덩어리 빵간다니 속이 시원합니다\n",
       "6087    그런데 판사 세끼들이 원칙과 양심에  따라재판해야 하는데  그렇치  못하니 답답하네요\n",
       "6088  한마디로 문조현 토착간첩 정권답네요갈수록 태산이다조현병 환자를 반대하는 국민은 살수...\n",
       "6089                                신의한수 식구들♡♡힘내세요화이팅🤗🤗\n",
       "6090                                                 과연\n",
       "\n",
       "[6091 rows x 1 columns]"
      ]
     },
     "execution_count": 12,
     "metadata": {},
     "output_type": "execute_result"
    }
   ],
   "source": [
    "comment_result"
   ]
  },
  {
   "cell_type": "markdown",
   "metadata": {},
   "source": [
    "## 형태소 분석기를 통한 명사 추출¶"
   ]
  },
  {
   "cell_type": "code",
   "execution_count": 13,
   "metadata": {},
   "outputs": [],
   "source": [
    "# !pip install konlpy"
   ]
  },
  {
   "cell_type": "code",
   "execution_count": 14,
   "metadata": {},
   "outputs": [],
   "source": [
    "#한글 형태소 분석기인 konlpy사용 \n",
    "#이때 konlpy에는 hannanum, kommoran, kkma, twitter이 있는데 해당 분석에서는 kkma사용\n",
    "from konlpy.tag import Kkma\n",
    "from konlpy.tag import Mecab\n",
    "from konlpy.tag import Twitter\n",
    "#apply lambda사용"
   ]
  },
  {
   "cell_type": "code",
   "execution_count": 15,
   "metadata": {},
   "outputs": [
    {
     "name": "stderr",
     "output_type": "stream",
     "text": [
      "C:\\Users\\user\\anaconda3\\lib\\site-packages\\konlpy\\tag\\_okt.py:16: UserWarning: \"Twitter\" has changed to \"Okt\" since KoNLPy v0.4.5.\n",
      "  warn('\"Twitter\" has changed to \"Okt\" since KoNLPy v0.4.5.')\n"
     ]
    }
   ],
   "source": [
    "from konlpy.tag import Twitter\n",
    "\n",
    "def get_noun(comment_txt):\n",
    "    twitter = Twitter()\n",
    "    noun = []\n",
    "    \n",
    "    if len(comment_txt)>0:\n",
    "        tw = twitter.pos(comment_txt)\n",
    "        for i,j in tw:\n",
    "            if j == 'Noun':\n",
    "                noun.append(i)\n",
    "    return noun\n",
    " \n",
    "comment_result['token'] = comment_result['Comment'].apply(lambda x: get_noun(x))"
   ]
  },
  {
   "cell_type": "code",
   "execution_count": 16,
   "metadata": {},
   "outputs": [
    {
     "data": {
      "text/plain": [
       "0                                        [마지막, 통화, 내용, 말]\n",
       "1       [신, 대표, 마스크, 추천, 기능, 저급, 돈, 지급, 면, 신의, 한수, 정도,...\n",
       "2                                            [여가부, 무엇, 곳]\n",
       "3                          [아마, 시신, 도안, 워, 그, 년놈, 죽, 좃겠어]\n",
       "4                                     [사인, 무었, 가도, 초상, 친]\n",
       "                              ...                        \n",
       "6086                                     [문제, 덩어리, 빵, 간다]\n",
       "6087                                  [판사, 끼, 원칙, 양심, 재판]\n",
       "6088    [한마디, 조현, 토착, 간첩, 정권, 답, 갈수록, 태산, 조현병, 환자, 반대,...\n",
       "6089                                      [신의한수, 식구, 화이팅]\n",
       "6090                                                 [과연]\n",
       "Name: token, Length: 6091, dtype: object"
      ]
     },
     "execution_count": 16,
     "metadata": {},
     "output_type": "execute_result"
    }
   ],
   "source": [
    "comment_result['token']"
   ]
  }
 ],
 "metadata": {
  "kernelspec": {
   "display_name": "Python 3",
   "language": "python",
   "name": "python3"
  },
  "language_info": {
   "codemirror_mode": {
    "name": "ipython",
    "version": 3
   },
   "file_extension": ".py",
   "mimetype": "text/x-python",
   "name": "python",
   "nbconvert_exporter": "python",
   "pygments_lexer": "ipython3",
   "version": "3.7.6"
  }
 },
 "nbformat": 4,
 "nbformat_minor": 4
}
