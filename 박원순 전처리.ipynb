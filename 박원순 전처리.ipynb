{
 "cells": [
  {
   "cell_type": "code",
   "execution_count": 1,
   "metadata": {},
   "outputs": [
    {
     "name": "stdout",
     "output_type": "stream",
     "text": [
      "Requirement already satisfied: selenium in c:\\users\\user\\anaconda3\\lib\\site-packages (3.141.0)\n",
      "Requirement already satisfied: urllib3 in c:\\users\\user\\anaconda3\\lib\\site-packages (from selenium) (1.25.8)\n"
     ]
    }
   ],
   "source": [
    "!pip install selenium\n",
    "\n",
    "import requests # 웹 페이지 소스를 얻기 위한 패키지(기본 내장 패키지이다.)\n",
    "from bs4 import BeautifulSoup # 웹 페이지 소스를 얻기 위한 패키지, 더 간단히 얻을 수 있다는 장점이 있다고 한다.\n",
    "from datetime import datetime                                # (!pip install beautifulsoup4 으로 다운받을 수 있다.)\n",
    "import pandas as pd # 데이터를 처리하기 위한 가장 기본적인 패키지\n",
    "import time # 사이트를 불러올 때, 작업 지연시간을 지정해주기 위한 패키지이다. (사이트가 늦게 켜지면 에러가 발생하기 때문)\n",
    "import urllib.request #\n",
    "from selenium.webdriver import Chrome\n",
    "import json\n",
    "import re     \n",
    "from selenium.webdriver.chrome.options import Options\n",
    "from selenium.webdriver.common.keys import Keys\n",
    "import datetime as dt\n",
    "\n"
   ]
  },
  {
   "cell_type": "code",
   "execution_count": 2,
   "metadata": {},
   "outputs": [],
   "source": [
    "comment_data = pd.read_csv('박원순.csv')"
   ]
  },
  {
   "cell_type": "code",
   "execution_count": 3,
   "metadata": {},
   "outputs": [
    {
     "data": {
      "text/html": [
       "<div>\n",
       "<style scoped>\n",
       "    .dataframe tbody tr th:only-of-type {\n",
       "        vertical-align: middle;\n",
       "    }\n",
       "\n",
       "    .dataframe tbody tr th {\n",
       "        vertical-align: top;\n",
       "    }\n",
       "\n",
       "    .dataframe thead th {\n",
       "        text-align: right;\n",
       "    }\n",
       "</style>\n",
       "<table border=\"1\" class=\"dataframe\">\n",
       "  <thead>\n",
       "    <tr style=\"text-align: right;\">\n",
       "      <th></th>\n",
       "      <th>Video ID</th>\n",
       "      <th>Title</th>\n",
       "      <th>Comment</th>\n",
       "    </tr>\n",
       "  </thead>\n",
       "  <tbody>\n",
       "    <tr>\n",
       "      <th>0</th>\n",
       "      <td>eFCXxFLC6lg</td>\n",
       "      <td>(다반뉴스)  속보! 박원순 유서 남기고 실종! 미투 터졌다!  / 신의한수 20....</td>\n",
       "      <td>인생은 그리길지않다\\r\\n살아온날보다 살아갈날이 얼마남지\\r\\n안았는데 추미애 너무...</td>\n",
       "    </tr>\n",
       "    <tr>\n",
       "      <th>1</th>\n",
       "      <td>eFCXxFLC6lg</td>\n",
       "      <td>(다반뉴스)  속보! 박원순 유서 남기고 실종! 미투 터졌다!  / 신의한수 20....</td>\n",
       "      <td>개판 나라다</td>\n",
       "    </tr>\n",
       "    <tr>\n",
       "      <th>2</th>\n",
       "      <td>eFCXxFLC6lg</td>\n",
       "      <td>(다반뉴스)  속보! 박원순 유서 남기고 실종! 미투 터졌다!  / 신의한수 20....</td>\n",
       "      <td>안죽었다면. 장례식은 뭔가요\\r\\n대사관쪽애서 사라졌다고 하는대. 미리 찻속애서 일...</td>\n",
       "    </tr>\n",
       "    <tr>\n",
       "      <th>3</th>\n",
       "      <td>eFCXxFLC6lg</td>\n",
       "      <td>(다반뉴스)  속보! 박원순 유서 남기고 실종! 미투 터졌다!  / 신의한수 20....</td>\n",
       "      <td>조용히 가족장으로 지내야지 뭔 시장장 웃기네</td>\n",
       "    </tr>\n",
       "    <tr>\n",
       "      <th>4</th>\n",
       "      <td>eFCXxFLC6lg</td>\n",
       "      <td>(다반뉴스)  속보! 박원순 유서 남기고 실종! 미투 터졌다!  / 신의한수 20....</td>\n",
       "      <td>우선 고인의명복을\\r\\n하지만 누구나 인생의 공과사를 남기고 그렇게...\\r\\n.....</td>\n",
       "    </tr>\n",
       "    <tr>\n",
       "      <th>...</th>\n",
       "      <td>...</td>\n",
       "      <td>...</td>\n",
       "      <td>...</td>\n",
       "    </tr>\n",
       "    <tr>\n",
       "      <th>24978</th>\n",
       "      <td>z-bSJaYPTkw</td>\n",
       "      <td>[TBS] 故 박원순 서울시장 온라인 영결식 / 7월 13일(월) 오전 8시 30분</td>\n",
       "      <td>편히  쉬세요.  우리 시장님!  지켜봐  주세요</td>\n",
       "    </tr>\n",
       "    <tr>\n",
       "      <th>24979</th>\n",
       "      <td>z-bSJaYPTkw</td>\n",
       "      <td>[TBS] 故 박원순 서울시장 온라인 영결식 / 7월 13일(월) 오전 8시 30분</td>\n",
       "      <td>삼가 고인의 명복을 빕니다</td>\n",
       "    </tr>\n",
       "    <tr>\n",
       "      <th>24980</th>\n",
       "      <td>z-bSJaYPTkw</td>\n",
       "      <td>[TBS] 故 박원순 서울시장 온라인 영결식 / 7월 13일(월) 오전 8시 30분</td>\n",
       "      <td>하늘에선 부디  평안하시길!  우리  깨시민들이  꼭  당신의  결백을 밝혀내겠습니다!</td>\n",
       "    </tr>\n",
       "    <tr>\n",
       "      <th>24981</th>\n",
       "      <td>z-bSJaYPTkw</td>\n",
       "      <td>[TBS] 故 박원순 서울시장 온라인 영결식 / 7월 13일(월) 오전 8시 30분</td>\n",
       "      <td>삼가 고인의 명복을 빕니다</td>\n",
       "    </tr>\n",
       "    <tr>\n",
       "      <th>24982</th>\n",
       "      <td>z-bSJaYPTkw</td>\n",
       "      <td>[TBS] 故 박원순 서울시장 온라인 영결식 / 7월 13일(월) 오전 8시 30분</td>\n",
       "      <td>'그 고소인의 면모'가 서서히 드러나고 있다.</td>\n",
       "    </tr>\n",
       "  </tbody>\n",
       "</table>\n",
       "<p>24983 rows × 3 columns</p>\n",
       "</div>"
      ],
      "text/plain": [
       "          Video ID                                              Title  \\\n",
       "0      eFCXxFLC6lg  (다반뉴스)  속보! 박원순 유서 남기고 실종! 미투 터졌다!  / 신의한수 20....   \n",
       "1      eFCXxFLC6lg  (다반뉴스)  속보! 박원순 유서 남기고 실종! 미투 터졌다!  / 신의한수 20....   \n",
       "2      eFCXxFLC6lg  (다반뉴스)  속보! 박원순 유서 남기고 실종! 미투 터졌다!  / 신의한수 20....   \n",
       "3      eFCXxFLC6lg  (다반뉴스)  속보! 박원순 유서 남기고 실종! 미투 터졌다!  / 신의한수 20....   \n",
       "4      eFCXxFLC6lg  (다반뉴스)  속보! 박원순 유서 남기고 실종! 미투 터졌다!  / 신의한수 20....   \n",
       "...            ...                                                ...   \n",
       "24978  z-bSJaYPTkw     [TBS] 故 박원순 서울시장 온라인 영결식 / 7월 13일(월) 오전 8시 30분   \n",
       "24979  z-bSJaYPTkw     [TBS] 故 박원순 서울시장 온라인 영결식 / 7월 13일(월) 오전 8시 30분   \n",
       "24980  z-bSJaYPTkw     [TBS] 故 박원순 서울시장 온라인 영결식 / 7월 13일(월) 오전 8시 30분   \n",
       "24981  z-bSJaYPTkw     [TBS] 故 박원순 서울시장 온라인 영결식 / 7월 13일(월) 오전 8시 30분   \n",
       "24982  z-bSJaYPTkw     [TBS] 故 박원순 서울시장 온라인 영결식 / 7월 13일(월) 오전 8시 30분   \n",
       "\n",
       "                                                 Comment  \n",
       "0      인생은 그리길지않다\\r\\n살아온날보다 살아갈날이 얼마남지\\r\\n안았는데 추미애 너무...  \n",
       "1                                                 개판 나라다  \n",
       "2      안죽었다면. 장례식은 뭔가요\\r\\n대사관쪽애서 사라졌다고 하는대. 미리 찻속애서 일...  \n",
       "3                               조용히 가족장으로 지내야지 뭔 시장장 웃기네  \n",
       "4      우선 고인의명복을\\r\\n하지만 누구나 인생의 공과사를 남기고 그렇게...\\r\\n.....  \n",
       "...                                                  ...  \n",
       "24978                        편히  쉬세요.  우리 시장님!  지켜봐  주세요  \n",
       "24979                                     삼가 고인의 명복을 빕니다  \n",
       "24980   하늘에선 부디  평안하시길!  우리  깨시민들이  꼭  당신의  결백을 밝혀내겠습니다!  \n",
       "24981                                     삼가 고인의 명복을 빕니다  \n",
       "24982                          '그 고소인의 면모'가 서서히 드러나고 있다.  \n",
       "\n",
       "[24983 rows x 3 columns]"
      ]
     },
     "execution_count": 3,
     "metadata": {},
     "output_type": "execute_result"
    }
   ],
   "source": [
    "comment_data"
   ]
  },
  {
   "cell_type": "code",
   "execution_count": 4,
   "metadata": {},
   "outputs": [],
   "source": [
    "\n",
    "#이모티콘 제거\n",
    "emoji_pattern = re.compile(\"[\"\n",
    "        u\"\\U0001F600-\\U0001F64F\"  # emoticons\n",
    "        u\"\\U0001F300-\\U0001F5FF\"  # symbols & pictographs\n",
    "        u\"\\U0001F680-\\U0001F6FF\"  # transport & map symbols\n",
    "        u\"\\U0001F1E0-\\U0001F1FF\"  # flags (iOS)\n",
    "                           \"]+\", flags=re.UNICODE)\n",
    "\n",
    "#분석에 어긋나는 불용어구 제외 (특수문자, 의성어)\n",
    "han = re.compile(r'[ㄱ-ㅎㅏ-ㅣ!?~,\".\\n\\r#\\ufeff\\u200d]')"
   ]
  },
  {
   "cell_type": "code",
   "execution_count": 5,
   "metadata": {},
   "outputs": [],
   "source": [
    "comment_list = []\n",
    "for i in range(len(comment_data)):\n",
    "    comment_list.append(comment_data['Comment'].iloc[i])"
   ]
  },
  {
   "cell_type": "code",
   "execution_count": 6,
   "metadata": {},
   "outputs": [],
   "source": [
    "comment_result = []\n",
    "\n",
    "for i in comment_list:\n",
    "    tokens = re.sub(emoji_pattern,\"\",i)\n",
    "    tokens = re.sub(han,\"\",tokens)\n",
    "    comment_result.append(tokens)\n",
    "\n",
    "comment_result = pd.DataFrame(comment_result, columns=[\"Comment\"])"
   ]
  },
  {
   "cell_type": "code",
   "execution_count": 7,
   "metadata": {},
   "outputs": [
    {
     "data": {
      "text/html": [
       "<div>\n",
       "<style scoped>\n",
       "    .dataframe tbody tr th:only-of-type {\n",
       "        vertical-align: middle;\n",
       "    }\n",
       "\n",
       "    .dataframe tbody tr th {\n",
       "        vertical-align: top;\n",
       "    }\n",
       "\n",
       "    .dataframe thead th {\n",
       "        text-align: right;\n",
       "    }\n",
       "</style>\n",
       "<table border=\"1\" class=\"dataframe\">\n",
       "  <thead>\n",
       "    <tr style=\"text-align: right;\">\n",
       "      <th></th>\n",
       "      <th>Comment</th>\n",
       "    </tr>\n",
       "  </thead>\n",
       "  <tbody>\n",
       "    <tr>\n",
       "      <th>0</th>\n",
       "      <td>인생은 그리길지않다살아온날보다 살아갈날이 얼마남지안았는데 추미애 너무날뛰지마라부메랑...</td>\n",
       "    </tr>\n",
       "    <tr>\n",
       "      <th>1</th>\n",
       "      <td>개판 나라다</td>\n",
       "    </tr>\n",
       "    <tr>\n",
       "      <th>2</th>\n",
       "      <td>안죽었다면 장례식은 뭔가요대사관쪽애서 사라졌다고 하는대 미리 찻속애서 일터지고 해지...</td>\n",
       "    </tr>\n",
       "    <tr>\n",
       "      <th>3</th>\n",
       "      <td>조용히 가족장으로 지내야지 뭔 시장장 웃기네</td>\n",
       "    </tr>\n",
       "    <tr>\n",
       "      <th>4</th>\n",
       "      <td>우선 고인의명복을하지만 누구나 인생의 공과사를 남기고 그렇게세상을 흑백논리로 들여다...</td>\n",
       "    </tr>\n",
       "    <tr>\n",
       "      <th>...</th>\n",
       "      <td>...</td>\n",
       "    </tr>\n",
       "    <tr>\n",
       "      <th>24978</th>\n",
       "      <td>편히  쉬세요  우리 시장님  지켜봐  주세요</td>\n",
       "    </tr>\n",
       "    <tr>\n",
       "      <th>24979</th>\n",
       "      <td>삼가 고인의 명복을 빕니다</td>\n",
       "    </tr>\n",
       "    <tr>\n",
       "      <th>24980</th>\n",
       "      <td>하늘에선 부디  평안하시길  우리  깨시민들이  꼭  당신의  결백을 밝혀내겠습니다</td>\n",
       "    </tr>\n",
       "    <tr>\n",
       "      <th>24981</th>\n",
       "      <td>삼가 고인의 명복을 빕니다</td>\n",
       "    </tr>\n",
       "    <tr>\n",
       "      <th>24982</th>\n",
       "      <td>'그 고소인의 면모'가 서서히 드러나고 있다</td>\n",
       "    </tr>\n",
       "  </tbody>\n",
       "</table>\n",
       "<p>24983 rows × 1 columns</p>\n",
       "</div>"
      ],
      "text/plain": [
       "                                                 Comment\n",
       "0      인생은 그리길지않다살아온날보다 살아갈날이 얼마남지안았는데 추미애 너무날뛰지마라부메랑...\n",
       "1                                                 개판 나라다\n",
       "2      안죽었다면 장례식은 뭔가요대사관쪽애서 사라졌다고 하는대 미리 찻속애서 일터지고 해지...\n",
       "3                               조용히 가족장으로 지내야지 뭔 시장장 웃기네\n",
       "4      우선 고인의명복을하지만 누구나 인생의 공과사를 남기고 그렇게세상을 흑백논리로 들여다...\n",
       "...                                                  ...\n",
       "24978                          편히  쉬세요  우리 시장님  지켜봐  주세요\n",
       "24979                                     삼가 고인의 명복을 빕니다\n",
       "24980     하늘에선 부디  평안하시길  우리  깨시민들이  꼭  당신의  결백을 밝혀내겠습니다\n",
       "24981                                     삼가 고인의 명복을 빕니다\n",
       "24982                           '그 고소인의 면모'가 서서히 드러나고 있다\n",
       "\n",
       "[24983 rows x 1 columns]"
      ]
     },
     "execution_count": 7,
     "metadata": {},
     "output_type": "execute_result"
    }
   ],
   "source": [
    "comment_result"
   ]
  },
  {
   "cell_type": "markdown",
   "metadata": {},
   "source": [
    "## 형태소 분석기를 통한 명사 추출¶"
   ]
  },
  {
   "cell_type": "code",
   "execution_count": 8,
   "metadata": {},
   "outputs": [],
   "source": [
    "# !pip install konlpy"
   ]
  },
  {
   "cell_type": "code",
   "execution_count": 9,
   "metadata": {},
   "outputs": [],
   "source": [
    "#한글 형태소 분석기인 konlpy사용 \n",
    "#이때 konlpy에는 hannanum, kommoran, kkma, twitter이 있는데 해당 분석에서는 kkma사용\n",
    "from konlpy.tag import Kkma\n",
    "from konlpy.tag import Mecab\n",
    "from konlpy.tag import Twitter\n",
    "#apply lambda사용"
   ]
  },
  {
   "cell_type": "code",
   "execution_count": 10,
   "metadata": {},
   "outputs": [
    {
     "name": "stderr",
     "output_type": "stream",
     "text": [
      "C:\\Users\\user\\anaconda3\\lib\\site-packages\\konlpy\\tag\\_okt.py:16: UserWarning: \"Twitter\" has changed to \"Okt\" since KoNLPy v0.4.5.\n",
      "  warn('\"Twitter\" has changed to \"Okt\" since KoNLPy v0.4.5.')\n"
     ]
    }
   ],
   "source": [
    "from konlpy.tag import Twitter\n",
    "\n",
    "def get_noun(comment_txt):\n",
    "    twitter = Twitter()\n",
    "    noun = []\n",
    "    \n",
    "    if len(comment_txt)>0:\n",
    "        tw = twitter.pos(comment_txt)\n",
    "        for i,j in tw:\n",
    "            if j == 'Noun':\n",
    "                noun.append(i)\n",
    "    return noun\n",
    " \n",
    "comment_result['token'] = comment_result['Comment'].apply(lambda x: get_noun(x))"
   ]
  },
  {
   "cell_type": "code",
   "execution_count": 11,
   "metadata": {},
   "outputs": [
    {
     "data": {
      "text/plain": [
       "0                                 [인생, 날, 날, 얼마, 추미애, 부메랑]\n",
       "1                                                 [개판, 나라]\n",
       "2         [장례식, 가요, 대사관, 쪽애, 미리, 찻속애, 일터, 지고, 해지, 보이지, 세상]\n",
       "3                                             [가족, 시장, 웃기]\n",
       "4        [우선, 고인, 명복, 누구, 인생, 공과, 세상, 흑백, 논리, 것, 박원순, 그...\n",
       "                               ...                        \n",
       "24978                                            [우리, 시장님]\n",
       "24979                                             [고인, 명복]\n",
       "24980                       [하늘, 부디, 우리, 깨, 시민, 꼭, 당신, 결백]\n",
       "24981                                             [고인, 명복]\n",
       "24982                                     [그, 고소, 면모, 서서히]\n",
       "Name: token, Length: 24983, dtype: object"
      ]
     },
     "execution_count": 11,
     "metadata": {},
     "output_type": "execute_result"
    }
   ],
   "source": [
    "comment_result['token']"
   ]
  }
 ],
 "metadata": {
  "kernelspec": {
   "display_name": "Python 3",
   "language": "python",
   "name": "python3"
  },
  "language_info": {
   "codemirror_mode": {
    "name": "ipython",
    "version": 3
   },
   "file_extension": ".py",
   "mimetype": "text/x-python",
   "name": "python",
   "nbconvert_exporter": "python",
   "pygments_lexer": "ipython3",
   "version": "3.7.6"
  }
 },
 "nbformat": 4,
 "nbformat_minor": 4
}
